{
 "cells": [
  {
   "cell_type": "code",
   "execution_count": 1,
   "metadata": {
    "collapsed": true
   },
   "outputs": [],
   "source": [
    "import warnings\n",
    "warnings.filterwarnings('ignore')\n",
    "\n",
    "import pandas as pd\n",
    "import numpy as np\n",
    "import os\n",
    "import pandas.io.sql as sqlio\n",
    "# import psycopg2\n",
    "import calendar\n",
    "# from query_postgre import *"
   ]
  },
  {
   "cell_type": "code",
   "execution_count": 12,
   "outputs": [
    {
     "data": {
      "text/plain": "9    Group brand       Brand  Channel Platform               Store  \\\n11        NESTLE       Nestle    Ecom   Lazada     NESTLE - LAZADA   \n12        NESTLE       Nestle    Ecom     Tiki       NESTLE - TIKI   \n15   SHISEIDO PC        Senka    Ecom     Tiki        SENKA - TIKI   \n16   SHISEIDO PC      Tsubaki    Ecom   Lazada    TSUBAKI - LAZADA   \n17   SHISEIDO PC        Senka    Ecom   Lazada      SENKA - LAZADA   \n..           ...          ...     ...      ...                 ...   \n268   WIPRO UNZA  Bio Essence    Ecom     TIKI  BIO ESSENCE - TIKI   \n269   WIPRO UNZA   Enchanteur    Ecom     TIKI   ENCHANTEUR - TIKI   \n270   WIPRO UNZA     Gervenne    Ecom     TIKI     GERVENNE - TIKI   \n271   WIPRO UNZA     Maxkleen    Ecom     TIKI     MAXKLEEN - TIKI   \n272   WIPRO UNZA       ROMANO    Ecom     TIKI       ROMANO - TIKI   \n\n9   Store status         CD (Full name)                   CD (Email)  \\\n11     Onboarded  Nguyễn Thị Hồng Nhung  hongnhung.nguyen@onpoint.vn   \n12     Onboarded  Nguyễn Thị Hồng Nhung  hongnhung.nguyen@onpoint.vn   \n15     Onboarded   Đoàn Nguyễn Dạ Dương     tuongvan.tran@onpoint.vn   \n16     Onboarded   Đoàn Nguyễn Dạ Dương     tuongvan.tran@onpoint.vn   \n17     Onboarded   Đoàn Nguyễn Dạ Dương     tuongvan.tran@onpoint.vn   \n..           ...                    ...                          ...   \n268    Onboarded          Trần Minh Duy          duy.tran@onpoint.vn   \n269    Onboarded          Trần Minh Duy          duy.tran@onpoint.vn   \n270    Onboarded          Trần Minh Duy          duy.tran@onpoint.vn   \n271    Onboarded          Trần Minh Duy          duy.tran@onpoint.vn   \n272    Onboarded          Trần Minh Duy          duy.tran@onpoint.vn   \n\n9   CD (Employee code) GBM/Team lead (Full name)  ... Join sub (Yes/No)  \\\n11              L00507             Phạm Minh Trí  ...               NaN   \n12              L00507             Phạm Minh Trí  ...               NaN   \n15              L00326            ĐẶNG THỊ HUYỀN  ...               NaN   \n16              L00326            ĐẶNG THỊ HUYỀN  ...               NaN   \n17              L00326            ĐẶNG THỊ HUYỀN  ...               NaN   \n..                 ...                       ...  ...               ...   \n268                NaN        Vũ Thị Phương Thảo  ...               NaN   \n269                NaN        Vũ Thị Phương Thảo  ...               NaN   \n270                NaN        Vũ Thị Phương Thảo  ...               NaN   \n271                NaN        Vũ Thị Phương Thảo  ...               NaN   \n272                NaN        Vũ Thị Phương Thảo  ...               NaN   \n\n9   Subsidy spent % Subsidy Target NMV BP Target GP BP (simulated)  \\\n11            NaN       NaN           NaN                      NaN   \n12            NaN       NaN           NaN                      NaN   \n15            NaN       NaN           NaN                      NaN   \n16            NaN       NaN           NaN                      NaN   \n17            NaN       NaN           NaN                      NaN   \n..            ...       ...           ...                      ...   \n268           NaN       NaN           NaN                      NaN   \n269           NaN       NaN           NaN                      NaN   \n270           NaN       NaN           NaN                      NaN   \n271           NaN       NaN           NaN                      NaN   \n272           NaN       NaN           NaN                      NaN   \n\n9   Target NMV after Target GP after (Simulated) NMV actual  \\\n11            224000                         NaN     370245   \n12             16000                         NaN       9793   \n15           28326.0                         NaN      13224   \n16             36066                         NaN      54594   \n17             32413                         NaN      34191   \n..               ...                         ...        ...   \n268             1723                         NaN        568   \n269             4238                         NaN       3719   \n270             1278                         NaN          0   \n271             6862                         NaN       1849   \n272            12265                         NaN       1166   \n\n9   GP actual (Simulated) SLOB performance (Oct comparing to Sep)  \n11                    NaN                                     NaN  \n12                    NaN                                     NaN  \n15                    NaN                                     NaN  \n16                    NaN                                     NaN  \n17                    NaN                                     NaN  \n..                    ...                                     ...  \n268                   NaN                                     NaN  \n269                   NaN                                     NaN  \n270                   NaN                                     NaN  \n271                   NaN                                     NaN  \n272                   NaN                                     NaN  \n\n[163 rows x 34 columns]",
      "text/html": "<div>\n<style scoped>\n    .dataframe tbody tr th:only-of-type {\n        vertical-align: middle;\n    }\n\n    .dataframe tbody tr th {\n        vertical-align: top;\n    }\n\n    .dataframe thead th {\n        text-align: right;\n    }\n</style>\n<table border=\"1\" class=\"dataframe\">\n  <thead>\n    <tr style=\"text-align: right;\">\n      <th>9</th>\n      <th>Group brand</th>\n      <th>Brand</th>\n      <th>Channel</th>\n      <th>Platform</th>\n      <th>Store</th>\n      <th>Store status</th>\n      <th>CD (Full name)</th>\n      <th>CD (Email)</th>\n      <th>CD (Employee code)</th>\n      <th>GBM/Team lead (Full name)</th>\n      <th>...</th>\n      <th>Join sub (Yes/No)</th>\n      <th>Subsidy spent</th>\n      <th>% Subsidy</th>\n      <th>Target NMV BP</th>\n      <th>Target GP BP (simulated)</th>\n      <th>Target NMV after</th>\n      <th>Target GP after (Simulated)</th>\n      <th>NMV actual</th>\n      <th>GP actual (Simulated)</th>\n      <th>SLOB performance (Oct comparing to Sep)</th>\n    </tr>\n  </thead>\n  <tbody>\n    <tr>\n      <th>11</th>\n      <td>NESTLE</td>\n      <td>Nestle</td>\n      <td>Ecom</td>\n      <td>Lazada</td>\n      <td>NESTLE - LAZADA</td>\n      <td>Onboarded</td>\n      <td>Nguyễn Thị Hồng Nhung</td>\n      <td>hongnhung.nguyen@onpoint.vn</td>\n      <td>L00507</td>\n      <td>Phạm Minh Trí</td>\n      <td>...</td>\n      <td>NaN</td>\n      <td>NaN</td>\n      <td>NaN</td>\n      <td>NaN</td>\n      <td>NaN</td>\n      <td>224000</td>\n      <td>NaN</td>\n      <td>370245</td>\n      <td>NaN</td>\n      <td>NaN</td>\n    </tr>\n    <tr>\n      <th>12</th>\n      <td>NESTLE</td>\n      <td>Nestle</td>\n      <td>Ecom</td>\n      <td>Tiki</td>\n      <td>NESTLE - TIKI</td>\n      <td>Onboarded</td>\n      <td>Nguyễn Thị Hồng Nhung</td>\n      <td>hongnhung.nguyen@onpoint.vn</td>\n      <td>L00507</td>\n      <td>Phạm Minh Trí</td>\n      <td>...</td>\n      <td>NaN</td>\n      <td>NaN</td>\n      <td>NaN</td>\n      <td>NaN</td>\n      <td>NaN</td>\n      <td>16000</td>\n      <td>NaN</td>\n      <td>9793</td>\n      <td>NaN</td>\n      <td>NaN</td>\n    </tr>\n    <tr>\n      <th>15</th>\n      <td>SHISEIDO PC</td>\n      <td>Senka</td>\n      <td>Ecom</td>\n      <td>Tiki</td>\n      <td>SENKA - TIKI</td>\n      <td>Onboarded</td>\n      <td>Đoàn Nguyễn Dạ Dương</td>\n      <td>tuongvan.tran@onpoint.vn</td>\n      <td>L00326</td>\n      <td>ĐẶNG THỊ HUYỀN</td>\n      <td>...</td>\n      <td>NaN</td>\n      <td>NaN</td>\n      <td>NaN</td>\n      <td>NaN</td>\n      <td>NaN</td>\n      <td>28326.0</td>\n      <td>NaN</td>\n      <td>13224</td>\n      <td>NaN</td>\n      <td>NaN</td>\n    </tr>\n    <tr>\n      <th>16</th>\n      <td>SHISEIDO PC</td>\n      <td>Tsubaki</td>\n      <td>Ecom</td>\n      <td>Lazada</td>\n      <td>TSUBAKI - LAZADA</td>\n      <td>Onboarded</td>\n      <td>Đoàn Nguyễn Dạ Dương</td>\n      <td>tuongvan.tran@onpoint.vn</td>\n      <td>L00326</td>\n      <td>ĐẶNG THỊ HUYỀN</td>\n      <td>...</td>\n      <td>NaN</td>\n      <td>NaN</td>\n      <td>NaN</td>\n      <td>NaN</td>\n      <td>NaN</td>\n      <td>36066</td>\n      <td>NaN</td>\n      <td>54594</td>\n      <td>NaN</td>\n      <td>NaN</td>\n    </tr>\n    <tr>\n      <th>17</th>\n      <td>SHISEIDO PC</td>\n      <td>Senka</td>\n      <td>Ecom</td>\n      <td>Lazada</td>\n      <td>SENKA - LAZADA</td>\n      <td>Onboarded</td>\n      <td>Đoàn Nguyễn Dạ Dương</td>\n      <td>tuongvan.tran@onpoint.vn</td>\n      <td>L00326</td>\n      <td>ĐẶNG THỊ HUYỀN</td>\n      <td>...</td>\n      <td>NaN</td>\n      <td>NaN</td>\n      <td>NaN</td>\n      <td>NaN</td>\n      <td>NaN</td>\n      <td>32413</td>\n      <td>NaN</td>\n      <td>34191</td>\n      <td>NaN</td>\n      <td>NaN</td>\n    </tr>\n    <tr>\n      <th>...</th>\n      <td>...</td>\n      <td>...</td>\n      <td>...</td>\n      <td>...</td>\n      <td>...</td>\n      <td>...</td>\n      <td>...</td>\n      <td>...</td>\n      <td>...</td>\n      <td>...</td>\n      <td>...</td>\n      <td>...</td>\n      <td>...</td>\n      <td>...</td>\n      <td>...</td>\n      <td>...</td>\n      <td>...</td>\n      <td>...</td>\n      <td>...</td>\n      <td>...</td>\n      <td>...</td>\n    </tr>\n    <tr>\n      <th>268</th>\n      <td>WIPRO UNZA</td>\n      <td>Bio Essence</td>\n      <td>Ecom</td>\n      <td>TIKI</td>\n      <td>BIO ESSENCE - TIKI</td>\n      <td>Onboarded</td>\n      <td>Trần Minh Duy</td>\n      <td>duy.tran@onpoint.vn</td>\n      <td>NaN</td>\n      <td>Vũ Thị Phương Thảo</td>\n      <td>...</td>\n      <td>NaN</td>\n      <td>NaN</td>\n      <td>NaN</td>\n      <td>NaN</td>\n      <td>NaN</td>\n      <td>1723</td>\n      <td>NaN</td>\n      <td>568</td>\n      <td>NaN</td>\n      <td>NaN</td>\n    </tr>\n    <tr>\n      <th>269</th>\n      <td>WIPRO UNZA</td>\n      <td>Enchanteur</td>\n      <td>Ecom</td>\n      <td>TIKI</td>\n      <td>ENCHANTEUR - TIKI</td>\n      <td>Onboarded</td>\n      <td>Trần Minh Duy</td>\n      <td>duy.tran@onpoint.vn</td>\n      <td>NaN</td>\n      <td>Vũ Thị Phương Thảo</td>\n      <td>...</td>\n      <td>NaN</td>\n      <td>NaN</td>\n      <td>NaN</td>\n      <td>NaN</td>\n      <td>NaN</td>\n      <td>4238</td>\n      <td>NaN</td>\n      <td>3719</td>\n      <td>NaN</td>\n      <td>NaN</td>\n    </tr>\n    <tr>\n      <th>270</th>\n      <td>WIPRO UNZA</td>\n      <td>Gervenne</td>\n      <td>Ecom</td>\n      <td>TIKI</td>\n      <td>GERVENNE - TIKI</td>\n      <td>Onboarded</td>\n      <td>Trần Minh Duy</td>\n      <td>duy.tran@onpoint.vn</td>\n      <td>NaN</td>\n      <td>Vũ Thị Phương Thảo</td>\n      <td>...</td>\n      <td>NaN</td>\n      <td>NaN</td>\n      <td>NaN</td>\n      <td>NaN</td>\n      <td>NaN</td>\n      <td>1278</td>\n      <td>NaN</td>\n      <td>0</td>\n      <td>NaN</td>\n      <td>NaN</td>\n    </tr>\n    <tr>\n      <th>271</th>\n      <td>WIPRO UNZA</td>\n      <td>Maxkleen</td>\n      <td>Ecom</td>\n      <td>TIKI</td>\n      <td>MAXKLEEN - TIKI</td>\n      <td>Onboarded</td>\n      <td>Trần Minh Duy</td>\n      <td>duy.tran@onpoint.vn</td>\n      <td>NaN</td>\n      <td>Vũ Thị Phương Thảo</td>\n      <td>...</td>\n      <td>NaN</td>\n      <td>NaN</td>\n      <td>NaN</td>\n      <td>NaN</td>\n      <td>NaN</td>\n      <td>6862</td>\n      <td>NaN</td>\n      <td>1849</td>\n      <td>NaN</td>\n      <td>NaN</td>\n    </tr>\n    <tr>\n      <th>272</th>\n      <td>WIPRO UNZA</td>\n      <td>ROMANO</td>\n      <td>Ecom</td>\n      <td>TIKI</td>\n      <td>ROMANO - TIKI</td>\n      <td>Onboarded</td>\n      <td>Trần Minh Duy</td>\n      <td>duy.tran@onpoint.vn</td>\n      <td>NaN</td>\n      <td>Vũ Thị Phương Thảo</td>\n      <td>...</td>\n      <td>NaN</td>\n      <td>NaN</td>\n      <td>NaN</td>\n      <td>NaN</td>\n      <td>NaN</td>\n      <td>12265</td>\n      <td>NaN</td>\n      <td>1166</td>\n      <td>NaN</td>\n      <td>NaN</td>\n    </tr>\n  </tbody>\n</table>\n<p>163 rows × 34 columns</p>\n</div>"
     },
     "execution_count": 12,
     "metadata": {},
     "output_type": "execute_result"
    }
   ],
   "source": [
    "directory = \"com_file\"\n",
    "file_name = \"COM incentive_01_2023.xlsx\"\n",
    "path = os.path.join(directory, file_name)\n",
    "df = pd.read_excel(path, \"Detail\", index_col= None)\n",
    "df = df.iloc[9:,1:]\n",
    "\n",
    "new_header = df.iloc[0] #grab the first row for the header\n",
    "df = df[1:] #take the data less the header row\n",
    "df.columns = new_header #set the header row as the df header\n",
    "\n",
    "#take rows that contain specific 'Onboarded' in 'Store status'\n",
    "df = df[df[\"Store status\"] == \"Onboarded\"]\n",
    "\n",
    "# Rename the cols\n",
    "# df.rename(columns={'Target NMV after': 'Target NMV','GP actual (Simulated)': 'GP actual', 'Target GP after (Simulated)': 'Target GP'}, inplace=True)\n",
    "\n",
    "df"
   ],
   "metadata": {
    "collapsed": false
   }
  },
  {
   "cell_type": "code",
   "execution_count": 6,
   "outputs": [
    {
     "ename": "InvalidIndexError",
     "evalue": "(0, slice(None, None, None))",
     "output_type": "error",
     "traceback": [
      "\u001B[1;31m---------------------------------------------------------------------------\u001B[0m",
      "\u001B[1;31mTypeError\u001B[0m                                 Traceback (most recent call last)",
      "File \u001B[1;32m~\\.conda\\envs\\airflow_onpoint\\lib\\site-packages\\pandas\\core\\indexes\\base.py:3802\u001B[0m, in \u001B[0;36mIndex.get_loc\u001B[1;34m(self, key, method, tolerance)\u001B[0m\n\u001B[0;32m   3801\u001B[0m \u001B[38;5;28;01mtry\u001B[39;00m:\n\u001B[1;32m-> 3802\u001B[0m     \u001B[38;5;28;01mreturn\u001B[39;00m \u001B[38;5;28;43mself\u001B[39;49m\u001B[38;5;241;43m.\u001B[39;49m\u001B[43m_engine\u001B[49m\u001B[38;5;241;43m.\u001B[39;49m\u001B[43mget_loc\u001B[49m\u001B[43m(\u001B[49m\u001B[43mcasted_key\u001B[49m\u001B[43m)\u001B[49m\n\u001B[0;32m   3803\u001B[0m \u001B[38;5;28;01mexcept\u001B[39;00m \u001B[38;5;167;01mKeyError\u001B[39;00m \u001B[38;5;28;01mas\u001B[39;00m err:\n",
      "File \u001B[1;32m~\\.conda\\envs\\airflow_onpoint\\lib\\site-packages\\pandas\\_libs\\index.pyx:138\u001B[0m, in \u001B[0;36mpandas._libs.index.IndexEngine.get_loc\u001B[1;34m()\u001B[0m\n",
      "File \u001B[1;32m~\\.conda\\envs\\airflow_onpoint\\lib\\site-packages\\pandas\\_libs\\index.pyx:144\u001B[0m, in \u001B[0;36mpandas._libs.index.IndexEngine.get_loc\u001B[1;34m()\u001B[0m\n",
      "\u001B[1;31mTypeError\u001B[0m: '(0, slice(None, None, None))' is an invalid key",
      "\nDuring handling of the above exception, another exception occurred:\n",
      "\u001B[1;31mInvalidIndexError\u001B[0m                         Traceback (most recent call last)",
      "Cell \u001B[1;32mIn[6], line 1\u001B[0m\n\u001B[1;32m----> 1\u001B[0m \u001B[43mdf\u001B[49m\u001B[43m[\u001B[49m\u001B[38;5;241;43m0\u001B[39;49m\u001B[43m,\u001B[49m\u001B[43m:\u001B[49m\u001B[43m]\u001B[49m\n",
      "File \u001B[1;32m~\\.conda\\envs\\airflow_onpoint\\lib\\site-packages\\pandas\\core\\frame.py:3807\u001B[0m, in \u001B[0;36mDataFrame.__getitem__\u001B[1;34m(self, key)\u001B[0m\n\u001B[0;32m   3805\u001B[0m \u001B[38;5;28;01mif\u001B[39;00m \u001B[38;5;28mself\u001B[39m\u001B[38;5;241m.\u001B[39mcolumns\u001B[38;5;241m.\u001B[39mnlevels \u001B[38;5;241m>\u001B[39m \u001B[38;5;241m1\u001B[39m:\n\u001B[0;32m   3806\u001B[0m     \u001B[38;5;28;01mreturn\u001B[39;00m \u001B[38;5;28mself\u001B[39m\u001B[38;5;241m.\u001B[39m_getitem_multilevel(key)\n\u001B[1;32m-> 3807\u001B[0m indexer \u001B[38;5;241m=\u001B[39m \u001B[38;5;28;43mself\u001B[39;49m\u001B[38;5;241;43m.\u001B[39;49m\u001B[43mcolumns\u001B[49m\u001B[38;5;241;43m.\u001B[39;49m\u001B[43mget_loc\u001B[49m\u001B[43m(\u001B[49m\u001B[43mkey\u001B[49m\u001B[43m)\u001B[49m\n\u001B[0;32m   3808\u001B[0m \u001B[38;5;28;01mif\u001B[39;00m is_integer(indexer):\n\u001B[0;32m   3809\u001B[0m     indexer \u001B[38;5;241m=\u001B[39m [indexer]\n",
      "File \u001B[1;32m~\\.conda\\envs\\airflow_onpoint\\lib\\site-packages\\pandas\\core\\indexes\\base.py:3809\u001B[0m, in \u001B[0;36mIndex.get_loc\u001B[1;34m(self, key, method, tolerance)\u001B[0m\n\u001B[0;32m   3804\u001B[0m         \u001B[38;5;28;01mraise\u001B[39;00m \u001B[38;5;167;01mKeyError\u001B[39;00m(key) \u001B[38;5;28;01mfrom\u001B[39;00m \u001B[38;5;21;01merr\u001B[39;00m\n\u001B[0;32m   3805\u001B[0m     \u001B[38;5;28;01mexcept\u001B[39;00m \u001B[38;5;167;01mTypeError\u001B[39;00m:\n\u001B[0;32m   3806\u001B[0m         \u001B[38;5;66;03m# If we have a listlike key, _check_indexing_error will raise\u001B[39;00m\n\u001B[0;32m   3807\u001B[0m         \u001B[38;5;66;03m#  InvalidIndexError. Otherwise we fall through and re-raise\u001B[39;00m\n\u001B[0;32m   3808\u001B[0m         \u001B[38;5;66;03m#  the TypeError.\u001B[39;00m\n\u001B[1;32m-> 3809\u001B[0m         \u001B[38;5;28;43mself\u001B[39;49m\u001B[38;5;241;43m.\u001B[39;49m\u001B[43m_check_indexing_error\u001B[49m\u001B[43m(\u001B[49m\u001B[43mkey\u001B[49m\u001B[43m)\u001B[49m\n\u001B[0;32m   3810\u001B[0m         \u001B[38;5;28;01mraise\u001B[39;00m\n\u001B[0;32m   3812\u001B[0m \u001B[38;5;66;03m# GH#42269\u001B[39;00m\n",
      "File \u001B[1;32m~\\.conda\\envs\\airflow_onpoint\\lib\\site-packages\\pandas\\core\\indexes\\base.py:5925\u001B[0m, in \u001B[0;36mIndex._check_indexing_error\u001B[1;34m(self, key)\u001B[0m\n\u001B[0;32m   5921\u001B[0m \u001B[38;5;28;01mdef\u001B[39;00m \u001B[38;5;21m_check_indexing_error\u001B[39m(\u001B[38;5;28mself\u001B[39m, key):\n\u001B[0;32m   5922\u001B[0m     \u001B[38;5;28;01mif\u001B[39;00m \u001B[38;5;129;01mnot\u001B[39;00m is_scalar(key):\n\u001B[0;32m   5923\u001B[0m         \u001B[38;5;66;03m# if key is not a scalar, directly raise an error (the code below\u001B[39;00m\n\u001B[0;32m   5924\u001B[0m         \u001B[38;5;66;03m# would convert to numpy arrays and raise later any way) - GH29926\u001B[39;00m\n\u001B[1;32m-> 5925\u001B[0m         \u001B[38;5;28;01mraise\u001B[39;00m InvalidIndexError(key)\n",
      "\u001B[1;31mInvalidIndexError\u001B[0m: (0, slice(None, None, None))"
     ]
    }
   ],
   "source": [
    "df[0,:]"
   ],
   "metadata": {
    "collapsed": false
   }
  },
  {
   "cell_type": "code",
   "execution_count": null,
   "outputs": [],
   "source": [],
   "metadata": {
    "collapsed": false
   }
  }
 ],
 "metadata": {
  "kernelspec": {
   "display_name": "Python 3",
   "language": "python",
   "name": "python3"
  },
  "language_info": {
   "codemirror_mode": {
    "name": "ipython",
    "version": 2
   },
   "file_extension": ".py",
   "mimetype": "text/x-python",
   "name": "python",
   "nbconvert_exporter": "python",
   "pygments_lexer": "ipython2",
   "version": "2.7.6"
  }
 },
 "nbformat": 4,
 "nbformat_minor": 0
}
